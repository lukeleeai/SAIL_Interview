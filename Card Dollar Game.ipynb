{
 "cells": [
  {
   "cell_type": "markdown",
   "id": "af004cb6",
   "metadata": {},
   "source": [
    "### Question\n",
    "\n",
    "*You have 26 black cards and 26 red cards. When you draw a red card, you lose one dollar. When you draw a black card, you win one dollar. You can always choose to end the game. What's the expected value of your strategy?*"
   ]
  },
  {
   "cell_type": "markdown",
   "id": "9196b4e6",
   "metadata": {},
   "source": [
    "The key is to find a recursive expression of the expected value. We can define the state in terms of B and R: $(B, R)$ where B is the number of black cards and R is the number of red cards. Given $(B, R)$, the next possible states is $(B-1, R)$ and $(B, R-1)$.\n",
    "\n",
    "The best strategy should be \"play the game if the expected value is bigger than 0, and don't otherwise.\" During the interview, my initial guess for the expected value was $E(B, R) = P(B) \\cdot (1 + max(0, E(B-1, R))) + P(R) \\cdot (-1 + max(0, E(B, R-1))$. However, there are some conditions that violate the strategy. For example, $E(1, 30) = \\frac {1} {31} \\cdot (1 + max(0, E(0, 30))) + \\frac {30} {31} \\cdot (-1 + max(0, E(1, 29)) = \\frac {1} {31} + \\frac {30} {31} \\cdot (-1 + max(0, E(1, 29))$, and we can easily guess that the value would be negative. However, given that we can always end the game, it's not wise to keep playing the game if the expected value is negative, so the expected value should be 0 according to our strategy.\n",
    "\n",
    "The modified expression would be $E(B, R) = max(0, P(B) \\cdot (1 + E(B-1, R)) + P(R) \\cdot (-1 + E(B, R-1)))$."
   ]
  },
  {
   "cell_type": "markdown",
   "id": "b0b7bdae",
   "metadata": {},
   "source": [
    "Using a naive recursion to implement it in code will result in the time complexity that is exponential to the number of cards. So, we will use dynamic programming to efficiently calculate the expected value of every possible state in advance in $O(B*R)$."
   ]
  },
  {
   "cell_type": "code",
   "execution_count": 23,
   "id": "325833dc",
   "metadata": {},
   "outputs": [],
   "source": [
    "from collections import defaultdict\n",
    "from tabulate import tabulate"
   ]
  },
  {
   "cell_type": "code",
   "execution_count": 45,
   "id": "9da16fac",
   "metadata": {},
   "outputs": [],
   "source": [
    "class CardGame:\n",
    "    def __init__(self, B, R):\n",
    "        \"\"\"\n",
    "        :param B: number of total black cards\n",
    "        :param R: number of total red cards\n",
    "        \"\"\"\n",
    "        self.B = B\n",
    "        self.R = R\n",
    "        self.expected_values = defaultdict(lambda: defaultdict(lambda:-1))\n",
    "        self.fill_up_expected_values(B, R)\n",
    "        \n",
    "    def fill_up_expected_values(self, B, R):\n",
    "        \"\"\"\n",
    "        Given the maximum number of each color,\n",
    "        calculate the expected value of every possible state in advance\n",
    "        \"\"\"\n",
    "        for b in range(B+1):\n",
    "            for r in range(R+1):\n",
    "                self.expected_values[b][r] = self.get_expected_value(b, r)\n",
    "        \n",
    "    def get_card_probabilities(self, B, R):\n",
    "        \"\"\"\n",
    "        :return: Probabilities of drawing B and R\n",
    "        \"\"\"\n",
    "        num_cards = B + R\n",
    "        prob_B = B / num_cards\n",
    "        prob_R = R / num_cards\n",
    "        return prob_B, prob_R\n",
    "    \n",
    "    def get_expected_value(self, B, R):\n",
    "        \"\"\"\n",
    "        :return: the expected value of B and R\n",
    "        \"\"\"\n",
    "        if B == 0:\n",
    "            return 0\n",
    "        if R == 0:\n",
    "            return B\n",
    "        \n",
    "        prob_B, prob_R = self.get_card_probabilities(B, R)\n",
    "        expected_value = max(0, prob_B * (1 + self.expected_values[B-1][R]) + prob_R * (-1 + self.expected_values[B][R-1]))\n",
    "        return expected_value\n",
    "    \n",
    "    def print_expected_values(self):\n",
    "        \"\"\"\n",
    "        Prints the expected values of all states in 2d table\n",
    "        y axis: B\n",
    "        x axis: R\n",
    "        \"\"\"\n",
    "        matrix = []\n",
    "\n",
    "        for b in range(B+1, -1, -1):\n",
    "            values = list(dic[b].values())\n",
    "            matrix += ([\"%.1f\" % v for v in values]),\n",
    "\n",
    "        print(tabulate(matrix))\n",
    "    \n",
    "    def solve(self, B, R):\n",
    "        assert 0 < B and B <= self.B, \"The number of black cards should be between 0 and \" + str(self.B)\n",
    "        assert 0 < R and R <= self.R, \"The number of red cards should be between 0 and \" + str(self.R)\n",
    "        return self.expected_values[B][R]"
   ]
  },
  {
   "cell_type": "code",
   "execution_count": 46,
   "id": "37fb5751",
   "metadata": {},
   "outputs": [],
   "source": [
    "dic = card_game.expected_values"
   ]
  },
  {
   "cell_type": "code",
   "execution_count": 47,
   "id": "01ff153d",
   "metadata": {},
   "outputs": [],
   "source": [
    "B = 20\n",
    "R = 20\n",
    "card_game = CardGame(B, R)"
   ]
  },
  {
   "cell_type": "code",
   "execution_count": 48,
   "id": "7b015b9d",
   "metadata": {
    "scrolled": true
   },
   "outputs": [
    {
     "data": {
      "text/plain": [
       "16.1948051948052"
      ]
     },
     "execution_count": 48,
     "metadata": {},
     "output_type": "execute_result"
    }
   ],
   "source": [
    "card_game.solve(20, 4)"
   ]
  },
  {
   "cell_type": "code",
   "execution_count": 49,
   "id": "d4d0bc45",
   "metadata": {},
   "outputs": [
    {
     "ename": "AssertionError",
     "evalue": "The number of black cards should be between 0 and 20",
     "output_type": "error",
     "traceback": [
      "\u001b[0;31m---------------------------------------------------------------------------\u001b[0m",
      "\u001b[0;31mAssertionError\u001b[0m                            Traceback (most recent call last)",
      "\u001b[0;32m<ipython-input-49-094732b749ef>\u001b[0m in \u001b[0;36m<module>\u001b[0;34m\u001b[0m\n\u001b[0;32m----> 1\u001b[0;31m \u001b[0mcard_game\u001b[0m\u001b[0;34m.\u001b[0m\u001b[0msolve\u001b[0m\u001b[0;34m(\u001b[0m\u001b[0;36m40\u001b[0m\u001b[0;34m,\u001b[0m \u001b[0;36m23\u001b[0m\u001b[0;34m)\u001b[0m\u001b[0;34m\u001b[0m\u001b[0;34m\u001b[0m\u001b[0m\n\u001b[0m",
      "\u001b[0;32m<ipython-input-45-e1689b84a0e9>\u001b[0m in \u001b[0;36msolve\u001b[0;34m(self, B, R)\u001b[0m\n\u001b[1;32m     56\u001b[0m \u001b[0;34m\u001b[0m\u001b[0m\n\u001b[1;32m     57\u001b[0m     \u001b[0;32mdef\u001b[0m \u001b[0msolve\u001b[0m\u001b[0;34m(\u001b[0m\u001b[0mself\u001b[0m\u001b[0;34m,\u001b[0m \u001b[0mB\u001b[0m\u001b[0;34m,\u001b[0m \u001b[0mR\u001b[0m\u001b[0;34m)\u001b[0m\u001b[0;34m:\u001b[0m\u001b[0;34m\u001b[0m\u001b[0;34m\u001b[0m\u001b[0m\n\u001b[0;32m---> 58\u001b[0;31m         \u001b[0;32massert\u001b[0m \u001b[0;36m0\u001b[0m \u001b[0;34m<\u001b[0m \u001b[0mB\u001b[0m \u001b[0;32mand\u001b[0m \u001b[0mB\u001b[0m \u001b[0;34m<=\u001b[0m \u001b[0mself\u001b[0m\u001b[0;34m.\u001b[0m\u001b[0mB\u001b[0m\u001b[0;34m,\u001b[0m \u001b[0;34m\"The number of black cards should be between 0 and \"\u001b[0m \u001b[0;34m+\u001b[0m \u001b[0mstr\u001b[0m\u001b[0;34m(\u001b[0m\u001b[0mself\u001b[0m\u001b[0;34m.\u001b[0m\u001b[0mB\u001b[0m\u001b[0;34m)\u001b[0m\u001b[0;34m\u001b[0m\u001b[0;34m\u001b[0m\u001b[0m\n\u001b[0m\u001b[1;32m     59\u001b[0m         \u001b[0;32massert\u001b[0m \u001b[0;36m0\u001b[0m \u001b[0;34m<\u001b[0m \u001b[0mR\u001b[0m \u001b[0;32mand\u001b[0m \u001b[0mR\u001b[0m \u001b[0;34m<=\u001b[0m \u001b[0mself\u001b[0m\u001b[0;34m.\u001b[0m\u001b[0mR\u001b[0m\u001b[0;34m,\u001b[0m \u001b[0;34m\"The number of red cards should be between 0 and \"\u001b[0m \u001b[0;34m+\u001b[0m \u001b[0mstr\u001b[0m\u001b[0;34m(\u001b[0m\u001b[0mself\u001b[0m\u001b[0;34m.\u001b[0m\u001b[0mR\u001b[0m\u001b[0;34m)\u001b[0m\u001b[0;34m\u001b[0m\u001b[0;34m\u001b[0m\u001b[0m\n\u001b[1;32m     60\u001b[0m         \u001b[0;32mreturn\u001b[0m \u001b[0mself\u001b[0m\u001b[0;34m.\u001b[0m\u001b[0mexpected_values\u001b[0m\u001b[0;34m[\u001b[0m\u001b[0mB\u001b[0m\u001b[0;34m]\u001b[0m\u001b[0;34m[\u001b[0m\u001b[0mR\u001b[0m\u001b[0;34m]\u001b[0m\u001b[0;34m\u001b[0m\u001b[0;34m\u001b[0m\u001b[0m\n",
      "\u001b[0;31mAssertionError\u001b[0m: The number of black cards should be between 0 and 20"
     ]
    }
   ],
   "source": [
    "card_game.solve(40, 23)"
   ]
  },
  {
   "cell_type": "code",
   "execution_count": 50,
   "id": "3608d61a",
   "metadata": {
    "scrolled": true
   },
   "outputs": [
    {
     "name": "stdout",
     "output_type": "stream",
     "text": [
      "--  ----  ----  ----  ----  ----  ----  ----  ----  ----  ----  ---  ---  ---  ---  ---  ---  ---  ---  ---  ---\n",
      "\n",
      "20  19    18.1  17.1  16.2  15.2  14.3  13.4  12.4  11.5  10.6  9.7  8.8  7.9  7    6.2  5.3  4.5  3.7  3    2.3\n",
      "19  18.1  17.1  16.2  15.2  14.3  13.3  12.4  11.5  10.5   9.6  8.7  7.8  7    6.1  5.3  4.5  3.7  2.9  2.2  1.6\n",
      "18  17.1  16.1  15.2  14.2  13.3  12.3  11.4  10.5   9.6   8.7  7.8  6.9  6    5.2  4.4  3.6  2.9  2.2  1.5  1\n",
      "17  16.1  15.1  14.2  13.2  12.3  11.4  10.4   9.5   8.6   7.7  6.8  6    5.1  4.3  3.5  2.8  2.1  1.5  0.9  0.5\n",
      "16  15.1  14.1  13.2  12.2  11.3  10.4   9.5   8.6   7.7   6.8  5.9  5.1  4.3  3.5  2.7  2    1.4  0.9  0.4  0.1\n",
      "15  14.1  13.1  12.2  11.3  10.3   9.4   8.5   7.6   6.7   5.9  5    4.2  3.4  2.7  2    1.4  0.8  0.4  0.1  0\n",
      "14  13.1  12.1  11.2  10.3   9.4   8.5   7.6   6.7   5.8   5    4.1  3.3  2.6  1.9  1.3  0.8  0.3  0.1  0    0\n",
      "13  12.1  11.1  10.2   9.3   8.4   7.5   6.6   5.7   4.9   4.1  3.3  2.5  1.8  1.2  0.7  0.3  0    0    0    0\n",
      "12  11.1  10.2   9.2   8.3   7.4   6.5   5.7   4.8   4     3.2  2.5  1.8  1.2  0.6  0.2  0    0    0    0    0\n",
      "11  10.1   9.2   8.3   7.4   6.5   5.6   4.7   3.9   3.1   2.4  1.7  1.1  0.6  0.2  0    0    0    0    0    0\n",
      "10   9.1   8.2   7.3   6.4   5.5   4.7   3.8   3     2.3   1.6  1    0.5  0.2  0    0    0    0    0    0    0\n",
      " 9   8.1   7.2   6.3   5.4   4.6   3.7   3     2.2   1.5   0.9  0.4  0.1  0    0    0    0    0    0    0    0\n",
      " 8   7.1   6.2   5.3   4.5   3.7   2.9   2.1   1.4   0.8   0.4  0    0    0    0    0    0    0    0    0    0\n",
      " 7   6.1   5.2   4.4   3.6   2.8   2     1.3   0.8   0.3   0    0    0    0    0    0    0    0    0    0    0\n",
      " 6   5.1   4.3   3.5   2.7   1.9   1.2   0.7   0.2   0     0    0    0    0    0    0    0    0    0    0    0\n",
      " 5   4.2   3.3   2.5   1.8   1.1   0.5   0.2   0     0     0    0    0    0    0    0    0    0    0    0    0\n",
      " 4   3.2   2.4   1.7   1     0.4   0.1   0     0     0     0    0    0    0    0    0    0    0    0    0    0\n",
      " 3   2.2   1.5   0.8   0.3   0     0     0     0     0     0    0    0    0    0    0    0    0    0    0    0\n",
      " 2   1.3   0.7   0.2   0     0     0     0     0     0     0    0    0    0    0    0    0    0    0    0    0\n",
      " 1   0.5   0     0     0     0     0     0     0     0     0    0    0    0    0    0    0    0    0    0    0\n",
      " 0   0     0     0     0     0     0     0     0     0     0    0    0    0    0    0    0    0    0    0    0\n",
      "--  ----  ----  ----  ----  ----  ----  ----  ----  ----  ----  ---  ---  ---  ---  ---  ---  ---  ---  ---  ---\n"
     ]
    }
   ],
   "source": [
    "card_game.print_expected_values()"
   ]
  }
 ],
 "metadata": {
  "kernelspec": {
   "display_name": "tf2",
   "language": "python",
   "name": "tf2"
  },
  "language_info": {
   "codemirror_mode": {
    "name": "ipython",
    "version": 3
   },
   "file_extension": ".py",
   "mimetype": "text/x-python",
   "name": "python",
   "nbconvert_exporter": "python",
   "pygments_lexer": "ipython3",
   "version": "3.8.12"
  }
 },
 "nbformat": 4,
 "nbformat_minor": 5
}
